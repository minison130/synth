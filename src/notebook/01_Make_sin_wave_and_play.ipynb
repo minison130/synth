{
 "cells": [
  {
   "cell_type": "code",
   "execution_count": 1,
   "metadata": {},
   "outputs": [],
   "source": [
    "import wave\n",
    "import numpy as np\n",
    "from matplotlib import pylab as plt\n",
    "import struct\n",
    "import pyaudio\n",
    "import pandas"
   ]
  },
  {
   "cell_type": "code",
   "execution_count": 2,
   "metadata": {},
   "outputs": [],
   "source": [
    "a = 1  # amplitude\n",
    "fs = 8000  # sampling freq.\n",
    "f0 = 440  # freq.\n",
    "sec = 1  # sec.\n",
    "\n",
    "swav = []\n",
    "for n in np.arange(fs * sec):\n",
    "    # make sin wave\n",
    "    s = a * np.sin(2.0 * np.pi * f0 * n / fs)\n",
    "    swav.append(s)"
   ]
  },
  {
   "cell_type": "code",
   "execution_count": 3,
   "metadata": {},
   "outputs": [
    {
     "data": {
      "image/png": "[encoded data removed]",
      "text/plain": [
       "<Figure size 432x288 with 1 Axes>"
      ]
     },
     "metadata": {
      "needs_background": "light"
     },
     "output_type": "display_data"
    }
   ],
   "source": [
    "plt.plot(swav[0:100])\n",
    "plt.show()"
   ]
  },
  {
   "cell_type": "code",
   "execution_count": 4,
   "metadata": {},
   "outputs": [],
   "source": [
    "def play_wav(wav_path):\n",
    "    try:\n",
    "        wf = wave.open(wav_path, \"r\")\n",
    "    except FileNotFoundError as e:\n",
    "        raise e\n",
    "    # open stream\n",
    "    p = pyaudio.PyAudio()\n",
    "    stream = p.open(format=p.get_format_from_width(wf.getsampwidth()),\n",
    "                    channels=wf.getnchannels(),\n",
    "                    rate=wf.getframerate(),\n",
    "                    output=True)\n",
    "    # play audio\n",
    "    chunk = 1024\n",
    "    data = wf.readframes(chunk)\n",
    "    while data != b\"\":\n",
    "        stream.write(data)\n",
    "        data = wf.readframes(chunk)\n",
    "    stream.close()\n",
    "    p.terminate()\n",
    "    wf.close()\n",
    "    \n",
    "def play_binary(binwave, fs, nchannels=1):\n",
    "    bit = 16\n",
    "    p = pyaudio.PyAudio()\n",
    "    stream = p.open(format=pyaudio.paInt16,\n",
    "                    channels=nchannels,\n",
    "                    rate=int(fs),\n",
    "                    output=True)\n",
    "    chunk = 1024\n",
    "    sp = 0 # pointer of play position\n",
    "    data = binwave[sp:sp+chunk]\n",
    "    while data != b\"\":\n",
    "        stream.write(data)\n",
    "        sp = sp + chunk\n",
    "        data = binwave[sp:sp+chunk]\n",
    "    stream.close()\n",
    "    p.terminate()\n",
    "    \n",
    "def make_binary(A=1, fs=8000, f0=440, sec=1):\n",
    "    \"\"\"\n",
    "    Args:\n",
    "        A: amplitude \n",
    "        fs: sampling frequency\n",
    "        f0: fundamental frequency\n",
    "        sec: generate seconds\n",
    "    Return:\n",
    "        binary\n",
    "    \"\"\"\n",
    "    swav = []\n",
    "    for n in np.arange(fs * sec):\n",
    "        # make sin wave\n",
    "        s = A * np.sin(2.0 * np.pi * f0 * n / fs)\n",
    "        # clip by large amplitude\n",
    "        if s > 1.0: s = 1.0\n",
    "        if s < -1.0: s = -1.0\n",
    "        # to be signed 16bit integer\n",
    "        s = (s * 32767.0).astype(np.int16)  # float to signed int16\n",
    "        swav.append(s)\n",
    "    binwave = struct.pack(\"h\" * len(swav), *swav)  # h => type short\n",
    "    return binwave\n",
    "\n",
    "def make_wav(binwave, wav_path,\n",
    "             nchannels=1, sampwidth=2, framerate=8000, comptype=\"NONE\", compname=\"not complessed\"):\n",
    "    nframes = len(binwave)\n",
    "    w = wave.Wave_write(wav_path)\n",
    "    p = (nchannels, sampwidth, framerate, nframes, comptype, compname)\n",
    "    w.setparams(p)\n",
    "    w.writeframes(binwave)\n",
    "    w.close()"
   ]
  },
  {
   "cell_type": "code",
   "execution_count": 5,
   "metadata": {},
   "outputs": [],
   "source": [
    "class ScaleHandler:\n",
    "    def __init__(self, csv_path=\"./scale.csv\"):\n",
    "        self.df = pandas.read_csv(csv_path)  # dataframe\n",
    "        \n",
    "    def get_freq(self, scalename):\n",
    "        \"\"\"\n",
    "        scalename can be \"A0\" to \"C8\", use \"#\" not \"b\".\n",
    "        \"\"\"\n",
    "        return self.df[self.df.name == scalename].freq"
   ]
  },
  {
   "cell_type": "code",
   "execution_count": 6,
   "metadata": {},
   "outputs": [],
   "source": [
    "a = 1\n",
    "fs = 8000\n",
    "sec = 1\n",
    "filename = \"output.wav\"\n",
    "\n",
    "sh = ScaleHandler()\n",
    "freq = sh.get_freq(\"A5\")\n",
    "\n",
    "b = make_binary(a, fs, int(freq), sec)\n",
    "make_wav(b, filename)\n",
    "play_wav(filename)"
   ]
  },
  {
   "cell_type": "code",
   "execution_count": 7,
   "metadata": {},
   "outputs": [],
   "source": [
    "a = 1\n",
    "fs = 8000\n",
    "sec = 1\n",
    "sh = ScaleHandler()\n",
    "\n",
    "for n in [\"C4\", \"D4\", \"E4\", \"F4\", \"G4\", \"A4\", \"B4\", \"C5\"]:\n",
    "    freq = sh.get_freq(n)\n",
    "    b = make_binary(a, fs, int(freq), sec)\n",
    "    play_binary(b, fs)"
   ]
  },
  {
   "cell_type": "code",
   "execution_count": null,
   "metadata": {},
   "outputs": [],
   "source": [
    "def make_combined_binary(A=1, fs=8000, f0s=(440), sec=1):\n",
    "    \"\"\"\n",
    "    Args:\n",
    "        A: amplitude \n",
    "        fs: sampling frequency\n",
    "        f0s (tuple) : fundamental frequencies\n",
    "        sec: generate seconds\n",
    "    Return:\n",
    "        binary\n",
    "    \"\"\"\n",
    "    swav = []\n",
    "    amp = float(A) / len(f0s)\n",
    "    for n in np.arange(fs * sec):\n",
    "        s = 0.\n",
    "        # make sin wave\n",
    "        for f0 in f0s:\n",
    "            s += amp * np.sin(2.0 * np.pi * f0 * n / fs)\n",
    "        # clip by large amplitude\n",
    "        if s > 1.0: s = 1.0\n",
    "        if s < -1.0: s = -1.0\n",
    "        # to be signed 16bit integer\n",
    "        s = (s * 32767.0).astype(np.int16)  # float to signed int16\n",
    "        swav.append(s)\n",
    "    binwave = struct.pack(\"h\" * len(swav), *swav)  # h => type short\n",
    "    return binwave"
   ]
  },
  {
   "cell_type": "code",
   "execution_count": null,
   "metadata": {},
   "outputs": [],
   "source": [
    "a = 1\n",
    "fs = 8000\n",
    "sec = 1\n",
    "sh = ScaleHandler()\n",
    "\n",
    "chord_C4 = [\"C4\", \"E4\", \"G4\"]\n",
    "f0s = tuple([int(sh.get)])"
   ]
  }
 ],
 "metadata": {
  "kernelspec": {
   "display_name": "Python 3",
   "language": "python",
   "name": "python3"
  },
  "language_info": {
   "codemirror_mode": {
    "name": "ipython",
    "version": 3
   },
   "file_extension": ".py",
   "mimetype": "text/x-python",
   "name": "python",
   "nbconvert_exporter": "python",
   "pygments_lexer": "ipython3",
   "version": "3.7.3"
  }
 },
 "nbformat": 4,
 "nbformat_minor": 2
}
