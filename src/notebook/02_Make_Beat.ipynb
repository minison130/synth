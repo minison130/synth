{
 "cells": [
  {
   "cell_type": "code",
   "execution_count": 3,
   "metadata": {},
   "outputs": [],
   "source": [
    "bpm = 120\n",
    "beat = 4  # or 8\n",
    "\n",
    "unit = 16 \n",
    "beat_per_section = 4\n",
    "unit_per_section = int(beat_per_section / beat * unit)\n",
    "\n",
    "upm = bpm / beat * unit\n",
    "sec_per_unit = 60. / upm \n",
    "\n",
    "num_section = 10"
   ]
  },
  {
   "cell_type": "code",
   "execution_count": 4,
   "metadata": {},
   "outputs": [],
   "source": [
    "import sys\n",
    "sys.path.append(\"../\")\n",
    "from audio import make_binary, play_binary\n",
    "from scale import ScaleHandler\n",
    "\n",
    "sh = ScaleHandler()\n",
    "freq = sh.get_freq(\"A5\")\n",
    "\n",
    "sum_b = b\"\"\n",
    "for _ in range(beat_per_section * num_section):\n",
    "    sum_b += make_binary(1, 8000, int(freq), 60/bpm * 1/3)\n",
    "    sum_b += make_binary(1, 8000, 0, 60/bpm * 2/3)\n",
    "play_binary(sum_b, 8000)"
   ]
  },
  {
   "cell_type": "code",
   "execution_count": null,
   "metadata": {},
   "outputs": [],
   "source": []
  },
  {
   "cell_type": "code",
   "execution_count": null,
   "metadata": {},
   "outputs": [],
   "source": []
  }
 ],
 "metadata": {
  "kernelspec": {
   "display_name": "Python 3",
   "language": "python",
   "name": "python3"
  },
  "language_info": {
   "codemirror_mode": {
    "name": "ipython",
    "version": 3
   },
   "file_extension": ".py",
   "mimetype": "text/x-python",
   "name": "python",
   "nbconvert_exporter": "python",
   "pygments_lexer": "ipython3",
   "version": "3.7.3"
  }
 },
 "nbformat": 4,
 "nbformat_minor": 2
}
